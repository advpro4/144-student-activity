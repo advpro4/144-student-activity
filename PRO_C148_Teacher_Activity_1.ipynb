{
  "nbformat": 4,
  "nbformat_minor": 0,
  "metadata": {
    "colab": {
      "name": " PRO-C148-Teacher-Activity-1.ipynb",
      "provenance": [],
      "collapsed_sections": [],
      "include_colab_link": true
    },
    "kernelspec": {
      "name": "python3",
      "display_name": "Python 3"
    },
    "language_info": {
      "name": "python"
    }
  },
  "cells": [
    {
      "cell_type": "markdown",
      "metadata": {
        "id": "view-in-github",
        "colab_type": "text"
      },
      "source": [
        "<a href=\"https://colab.research.google.com/github/advpro4/144-student-activity/blob/main/PRO_C148_Teacher_Activity_1.ipynb\" target=\"_parent\"><img src=\"https://colab.research.google.com/assets/colab-badge.svg\" alt=\"Open In Colab\"/></a>"
      ]
    },
    {
      "cell_type": "code",
      "execution_count": null,
      "metadata": {
        "id": "ZWqLbCO9JJjC"
      },
      "outputs": [],
      "source": [
        "# installing kaggle module\n",
        "!pip install kaggle"
      ]
    },
    {
      "cell_type": "code",
      "source": [
        "# uploading kaggle.json\n",
        "from google.colab import files\n",
        "files.upload()"
      ],
      "metadata": {
        "id": "GM994zJBJUf4"
      },
      "execution_count": null,
      "outputs": []
    },
    {
      "cell_type": "code",
      "source": [
        "# making hidden directory named 'kaggle'\n",
        "!mkdir -p ~/.kaggle\n",
        "!cp kaggle.json ~/.kaggle\n",
        "!chmod 600 ~/.kaggle/kaggle.json"
      ],
      "metadata": {
        "id": "i14LRruSJcC_"
      },
      "execution_count": null,
      "outputs": []
    },
    {
      "cell_type": "code",
      "source": [
        "# downloading dataset\n",
        "!kaggle datasets download -d tmdb/tmdb-movie-metadata"
      ],
      "metadata": {
        "id": "de22Zk06Jvae"
      },
      "execution_count": null,
      "outputs": []
    },
    {
      "cell_type": "code",
      "source": [
        "# listing all the files in working directory\n",
        "!ls"
      ],
      "metadata": {
        "id": "SNlnujl3J5l_"
      },
      "execution_count": null,
      "outputs": []
    },
    {
      "cell_type": "code",
      "source": [
        "# unzipping files\n",
        "!unzip tmdb-movie-metadata.zip"
      ],
      "metadata": {
        "id": "N_5oSkkyJ7Ni"
      },
      "execution_count": null,
      "outputs": []
    },
    {
      "cell_type": "code",
      "source": [
        "# creating dataframe\n",
        "import pandas as pd\n",
        "credits_df = pd.read_csv('tmdb_5000_credits.csv')\n",
        "movies_df = pd.read_csv('tmdb_5000_movies.csv')"
      ],
      "metadata": {
        "id": "mr1F4znFKBcz"
      },
      "execution_count": null,
      "outputs": []
    },
    {
      "cell_type": "code",
      "source": [
        "# printing first 5 rows\n",
        "credits_df.head()"
      ],
      "metadata": {
        "id": "7dghPCylKUF6"
      },
      "execution_count": null,
      "outputs": []
    },
    {
      "cell_type": "code",
      "source": [
        "# printing first 5 rows\n",
        "movies_df.head()"
      ],
      "metadata": {
        "id": "PKi10XwTKYPo"
      },
      "execution_count": null,
      "outputs": []
    },
    {
      "cell_type": "code",
      "source": [
        "# renaming a column\n",
        "credits_df.rename(columns = {'movie_id' : 'id'} , inplace = True)\n",
        "credits_df.head()"
      ],
      "metadata": {
        "id": "U5JvxqCcKpdK"
      },
      "execution_count": null,
      "outputs": []
    },
    {
      "cell_type": "code",
      "source": [
        "# merging datasets\n",
        "result_df = pd.merge(movies_df , credits_df , on = 'id')"
      ],
      "metadata": {
        "id": "nDjKKGZ8K0s1"
      },
      "execution_count": null,
      "outputs": []
    },
    {
      "cell_type": "code",
      "source": [
        "# printing shape of dataset\n",
        "result_df.shape"
      ],
      "metadata": {
        "id": "l5lmJ7RvbvLh"
      },
      "execution_count": null,
      "outputs": []
    },
    {
      "cell_type": "code",
      "source": [
        "# print the dataframe info"
      ],
      "metadata": {
        "id": "pXST9alKkHXf"
      },
      "execution_count": null,
      "outputs": []
    },
    {
      "cell_type": "code",
      "source": [
        "# clean the dataset : remove the columns"
      ],
      "metadata": {
        "id": "GsbyTzXTphRQ"
      },
      "execution_count": null,
      "outputs": []
    },
    {
      "cell_type": "code",
      "source": [
        "# print the dataframe info again"
      ],
      "metadata": {
        "id": "Ve_ZNPLRplnk"
      },
      "execution_count": null,
      "outputs": []
    }
  ]
}